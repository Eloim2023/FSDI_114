{
 "cells": [
  {
   "cell_type": "code",
   "execution_count": 18,
   "id": "eec078f7",
   "metadata": {},
   "outputs": [],
   "source": [
    "# Simplified Stack implementation\n",
    "\n",
    "class Stack:\n",
    "    def __init__(self):\n",
    "        self.items = []\n",
    "        \n",
    "    def push(self, element):\n",
    "        self.items.append(element)\n",
    "        \n",
    "    def pop(self):\n",
    "        return self.items.pop()\n",
    "    \n",
    "    # nice to have methods:\n",
    "    def size(self):\n",
    "        return len(self.items)\n",
    "    \n",
    "    def peek(self):\n",
    "        return self.items[len(self.items)-1]\n",
    "    \n",
    "    def is_empty(self):\n",
    "        return self.items == []\n",
    "    "
   ]
  },
  {
   "cell_type": "code",
   "execution_count": 2,
   "id": "163287c2",
   "metadata": {},
   "outputs": [],
   "source": [
    "# 1, 2, 3, 4, 5\n",
    "# feed these sequentially into a stack\n",
    "# then, inmediately, retrieve all of them via pop\n",
    "# you will get back, 5, 4, 3, 2, 1\n"
   ]
  },
  {
   "cell_type": "code",
   "execution_count": 3,
   "id": "504d8aa6",
   "metadata": {},
   "outputs": [
    {
     "ename": "SyntaxError",
     "evalue": "invalid syntax (4232518597.py, line 7)",
     "output_type": "error",
     "traceback": [
      "\u001b[0;36m  Cell \u001b[0;32mIn[3], line 7\u001b[0;36m\u001b[0m\n\u001b[0;31m    ```\u001b[0m\n\u001b[0m    ^\u001b[0m\n\u001b[0;31mSyntaxError\u001b[0m\u001b[0;31m:\u001b[0m invalid syntax\n"
     ]
    }
   ],
   "source": [
    "# Mini Challenge\n",
    "\n",
    "#Create a function that uses a stack (our stack class above) to invert a string\n",
    "\n",
    "# Your function must be called `invert_str` and receive a single string as a parameter, than return that string in inverted order.\n",
    "\n",
    "```\n",
    "Examples: \n",
    "    Rafael -> leafar\n",
    "    rats -> star\n",
    "    cars -> srac\n",
    "    etc\n",
    "    ```"
   ]
  },
  {
   "cell_type": "code",
   "execution_count": 4,
   "id": "956373bc",
   "metadata": {},
   "outputs": [],
   "source": [
    "# Define function called \"invert_str\" that receive a string has parameter\n",
    "# Inside function, create an instance of the Stack class.\n",
    "# iterate over each char in the string\n",
    "# push new chars \n",
    "# create new empty strings\n",
    "# use is_empty to check if stack is empty\n",
    "# use pop.\n",
    "# return \n",
    "    \n",
    "\n",
    "    \n",
    "\n",
    "    \n",
    "    "
   ]
  },
  {
   "cell_type": "code",
   "execution_count": 19,
   "id": "4bf5d9d2",
   "metadata": {},
   "outputs": [
    {
     "data": {
      "text/plain": [
       "' miole'"
      ]
     },
     "execution_count": 19,
     "metadata": {},
     "output_type": "execute_result"
    }
   ],
   "source": [
    "def invert_str(string):\n",
    "    stack = Stack()\n",
    "    out = \" \"\n",
    "    for char in string:\n",
    "        stack.push(char)\n",
    "    while not stack.is_empty():\n",
    "        out += stack.pop()\n",
    "    return out\n",
    "    \n",
    "invert_str(\"eloim\")"
   ]
  },
  {
   "cell_type": "code",
   "execution_count": 20,
   "id": "a993565b",
   "metadata": {},
   "outputs": [
    {
     "data": {
      "text/plain": [
       "'miole'"
      ]
     },
     "execution_count": 20,
     "metadata": {},
     "output_type": "execute_result"
    }
   ],
   "source": [
    "def invert_str(string):\n",
    "    stack = Stack()\n",
    "    out = \"\"\n",
    "    for char in string:\n",
    "        stack.push(char)\n",
    "    while not stack.is_empty():\n",
    "        out += stack.pop()\n",
    "    return out\n",
    "    \n",
    "invert_str(\"eloim\")"
   ]
  },
  {
   "cell_type": "code",
   "execution_count": 21,
   "id": "32224bcf",
   "metadata": {},
   "outputs": [
    {
     "data": {
      "text/plain": [
       "'miole'"
      ]
     },
     "execution_count": 21,
     "metadata": {},
     "output_type": "execute_result"
    }
   ],
   "source": [
    "def invert_str(string):\n",
    "    stack = Stack()\n",
    "    out = \"\"\n",
    "    for char in string:\n",
    "        stack.push(char)\n",
    "    while not stack.is_empty():\n",
    "        out += stack.pop()\n",
    "    return out\n",
    "    \n",
    "invert_str(\"eloim\")"
   ]
  },
  {
   "cell_type": "code",
   "execution_count": 23,
   "id": "5652236a",
   "metadata": {},
   "outputs": [
    {
     "ename": "IndentationError",
     "evalue": "expected an indented block after function definition on line 21 (3717573740.py, line 22)",
     "output_type": "error",
     "traceback": [
      "\u001b[0;36m  Cell \u001b[0;32mIn[23], line 22\u001b[0;36m\u001b[0m\n\u001b[0;31m    stack = Stack()\u001b[0m\n\u001b[0m    ^\u001b[0m\n\u001b[0;31mIndentationError\u001b[0m\u001b[0;31m:\u001b[0m expected an indented block after function definition on line 21\n"
     ]
    }
   ],
   "source": [
    "class Stack:\n",
    "    def __init__(self):\n",
    "        self.items = []\n",
    "        \n",
    "    def push(self, element):\n",
    "        self.items.append(element)\n",
    "        \n",
    "    def pop(self):\n",
    "        return self.items.pop()\n",
    "    \n",
    "    # nice to have methods:\n",
    "    def size(self):\n",
    "        return len(self.items)\n",
    "    \n",
    "    def peek(self):\n",
    "        return self.items[len(self.items)-1]\n",
    "    \n",
    "    def is_empty(self):\n",
    "        return self.items == []\n",
    "    \n",
    "    def invert_str(string):\n",
    "    stack = Stack()\n",
    "    out = \"\"\n",
    "    for char in string:\n",
    "        stack.push(char)\n",
    "    while not stack.is_empty():\n",
    "        out += stack.pop()\n",
    "    return out\n",
    "    \n",
    "    \n",
    "    invert_str(\"eloim\")\n",
    "    "
   ]
  },
  {
   "cell_type": "code",
   "execution_count": 24,
   "id": "3c7e1eaf",
   "metadata": {},
   "outputs": [
    {
     "data": {
      "text/plain": [
       "'miole'"
      ]
     },
     "execution_count": 24,
     "metadata": {},
     "output_type": "execute_result"
    }
   ],
   "source": [
    "def invert_str(mystr):\n",
    "    stack = Stack()\n",
    "    out = \"\"\n",
    "    for char in mystr:\n",
    "        stack.push(char)\n",
    "    while not stack.is_empty():\n",
    "        out += stack.pop()\n",
    "    return out\n",
    "    \n",
    "invert_str(\"eloim\")"
   ]
  },
  {
   "cell_type": "code",
   "execution_count": 25,
   "id": "f5d28bfd",
   "metadata": {},
   "outputs": [
    {
     "data": {
      "text/plain": [
       "'leafar'"
      ]
     },
     "execution_count": 25,
     "metadata": {},
     "output_type": "execute_result"
    }
   ],
   "source": [
    "def invert_str(mystr):\n",
    "    stack = Stack()\n",
    "    out = \"\"\n",
    "    for char in mystr:\n",
    "        stack.push(char)\n",
    "    while not stack.is_empty():\n",
    "        out += stack.pop()\n",
    "    return out\n",
    "    \n",
    "invert_str(\"rafael\")"
   ]
  },
  {
   "cell_type": "code",
   "execution_count": 11,
   "id": "dc0807c2",
   "metadata": {},
   "outputs": [
    {
     "name": "stdout",
     "output_type": "stream",
     "text": [
      "5\n"
     ]
    }
   ],
   "source": [
    "# Examples of pass by value\n",
    "# Note: primary data types pass by value in python\n",
    "# Integers, float and booleans.\n",
    "x = 5\n",
    "y = x\n",
    "\n",
    "y = y + 1\n",
    "\n",
    "print(x)"
   ]
  },
  {
   "cell_type": "code",
   "execution_count": 12,
   "id": "0e917f7a",
   "metadata": {},
   "outputs": [
    {
     "name": "stdout",
     "output_type": "stream",
     "text": [
      "[1, 2, 3, 4]\n"
     ]
    }
   ],
   "source": [
    "# example of pass by reference\n",
    "# Note: Every other data type in python passes by reference\n",
    "\n",
    "x = [1, 2, 3]\n",
    "y = x\n",
    "\n",
    "y.append(4)\n",
    "\n",
    "print(x)"
   ]
  },
  {
   "cell_type": "code",
   "execution_count": 13,
   "id": "0ff1c3e4",
   "metadata": {},
   "outputs": [],
   "source": [
    "# implementation that does not depend on built-in data structures\n"
   ]
  },
  {
   "cell_type": "code",
   "execution_count": 16,
   "id": "eb502fc3",
   "metadata": {},
   "outputs": [],
   "source": [
    "class Stack:\n",
    "    class __Node:\n",
    "        def __init__(self, data):\n",
    "            self.data = data\n",
    "            self.below = None\n",
    "    def __init__(self):\n",
    "        self.top = None\n",
    "    \n",
    "    def push(self, element):\n",
    "        new_node = self.__Node(element)\n",
    "        if not self.top:\n",
    "            self.top = new_node\n",
    "        else:\n",
    "            new_node.below = self.top\n",
    "            self.top = new_node\n",
    "            \n",
    "    def pop(self):\n",
    "        if self.top:\n",
    "            element = self.top.data\n",
    "            self.top = self.top.below\n",
    "            return element\n",
    "        raise IndexError(\"Empty stack\")\n",
    "        \n",
    "    def is_empty(self):\n",
    "        return self.top == None\n",
    "    \n",
    "    def __str__(self):\n",
    "        out =\"\"\n",
    "        current = self.top\n",
    "        while currrent:\n",
    "            out += \"| %s\\t|\\n\" % current.data\n",
    "            current = current.below\n",
    "        out += \" __\\t\"\n",
    "        return out\n",
    "    \n",
    "    # def size(self):\n",
    "       \n",
    "        # return self.count\n",
    "    \n",
    "    # def peek(self):\n",
    "        # return self.top.data\n",
    "    \n",
    "    # def search(self, element):\n",
    "            \n",
    "        \n",
    "    # Three more methods:\n",
    "    \n",
    "    def size(self):\n",
    "        # this method should return the value of the element at the top, without removing the (top) node\n",
    "        pass\n",
    "         \n",
    "    def peek(self):\n",
    "        pass\n",
    "        \n",
    "    def search(self, element):\n",
    "        # this should return True if the element is somewhere in the stack, False otherwise\n",
    "        pass\n",
    "    \n",
    "    "
   ]
  },
  {
   "cell_type": "code",
   "execution_count": 26,
   "id": "b5b98241",
   "metadata": {},
   "outputs": [
    {
     "name": "stdout",
     "output_type": "stream",
     "text": [
      "<__main__.Stack object at 0x7f7ae4381900>\n"
     ]
    }
   ],
   "source": [
    "mynewstack = Stack()\n",
    "\n",
    "for number in range(1, 11):\n",
    "    mynewstack.push(number)\n",
    "    \n",
    "print(mynewstack)"
   ]
  },
  {
   "cell_type": "code",
   "execution_count": null,
   "id": "713b0427",
   "metadata": {},
   "outputs": [],
   "source": [
    "# Simplified implementation of queue relying on built-in data structures (list)\n",
    "\n",
    "class Queue:\n",
    "    def __init__(self):\n",
    "        self.items = []\n",
    "        \n",
    "    def enqueue(self, element):\n",
    "        self.items.insert(0, element)\n",
    "        \n",
    "    def dequeue(self):\n",
    "        return self.items.pop()\n",
    "    \n",
    "    # nice to have methods\n",
    "    \n",
    "    def size(self):\n",
    "        return len(self.items)\n",
    "    \n",
    "    def peek(self):\n",
    "        return self.items[len(self.items)-1]\n",
    "    \n",
    "    def is_empty(self):\n",
    "        return self.items == []\n",
    "    "
   ]
  }
 ],
 "metadata": {
  "kernelspec": {
   "display_name": "Python 3 (ipykernel)",
   "language": "python",
   "name": "python3"
  },
  "language_info": {
   "codemirror_mode": {
    "name": "ipython",
    "version": 3
   },
   "file_extension": ".py",
   "mimetype": "text/x-python",
   "name": "python",
   "nbconvert_exporter": "python",
   "pygments_lexer": "ipython3",
   "version": "3.10.6"
  }
 },
 "nbformat": 4,
 "nbformat_minor": 5
}
