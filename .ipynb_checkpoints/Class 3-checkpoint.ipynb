{
 "cells": [
  {
   "cell_type": "code",
   "execution_count": 1,
   "id": "937d5fb5",
   "metadata": {},
   "outputs": [
    {
     "name": "stdout",
     "output_type": "stream",
     "text": [
      "[1, 2, 3, 4]\n"
     ]
    }
   ],
   "source": [
    "# python list: \n",
    "\n",
    "mylist = [1, 2, 3, 4]\n",
    "\n",
    "print(mylist)"
   ]
  },
  {
   "cell_type": "code",
   "execution_count": 48,
   "id": "a7534d08",
   "metadata": {},
   "outputs": [],
   "source": [
    "class SinglyLinkedList:\n",
    "    class __Node:\n",
    "        def __init__(self, data):\n",
    "            self.data = data\n",
    "            self.next = None\n",
    "            \n",
    "    def __init__(self):\n",
    "            self.head = None\n",
    "            \n",
    "    def append(self, value):\n",
    "        new_node = self.__Node(value)\n",
    "        if not self.head:              # state 1: when the list is empty\n",
    "            self.head = new_node\n",
    "        else:\n",
    "            current = self.head       # state 2: when there is only one node and...\n",
    "            while current.next:       # state 3: when there is more than one node in our list\n",
    "                current = current.next\n",
    "            current.next = new_node\n",
    "        \n",
    "    def __str__(self):\n",
    "        out = \"[\"\n",
    "        current = self.head\n",
    "        if current:\n",
    "            out += \"%s\" % current.data\n",
    "            current = current.next\n",
    "            while current:\n",
    "                out += \", %s\" % current.data\n",
    "                current = current.next\n",
    "        out += \"]\"\n",
    "        return out\n",
    "                \n",
    "                \n",
    "    def insert(self, index, value):\n",
    "        # current = self.head\n",
    "        # prev = None\n",
    "        # counter = 0\n",
    "        # while current and index != counter:\n",
    "        #    prev = current\n",
    "        #    current = current.next\n",
    "        #    counter += 1\n",
    "        pass\n",
    "\n",
    "    def remove(self, value):\n",
    "        \n",
    "        # conditional statement verify if list is empty before searching for value by applying if statements\n",
    "        # search for value entered by comparing with self.head.data, then return\n",
    "        # use while loop, to iterate each element until identical value is found, raise ValueError if not found\n",
    "        \n",
    "        if not self.head:  \n",
    "            raise ValueError(\"List is empty\")   \n",
    "        if self.head.data == value:\n",
    "            self.head = self.head.next\n",
    "        else: \n",
    "            current = self.head\n",
    "            previous = None\n",
    "            while current:\n",
    "                if current.data == value:\n",
    "                    previous.next = current.next\n",
    "                else:\n",
    "                    previous = current\n",
    "                    current = current.next\n",
    "        raise ValueError(\"Value not found in the list\")\n",
    "\n",
    "    def index(self, value):\n",
    "        current = self.head\n",
    "        counter = 0\n",
    "        found = False\n",
    "        if current:\n",
    "            while current.next and not found:\n",
    "                if current.data == value:\n",
    "                    found = True\n",
    "                    break\n",
    "                counter += 1\n",
    "                current = current.next\n",
    "        if found:\n",
    "            return counter\n",
    "        raise ValueError(\"Value not found\")\n",
    "\n"
   ]
  },
  {
   "cell_type": "code",
   "execution_count": 50,
   "id": "6bab16cf",
   "metadata": {},
   "outputs": [
    {
     "name": "stdout",
     "output_type": "stream",
     "text": [
      "Empty lists:\n",
      "[]\n",
      "[]\n",
      "List with one element:\n",
      "[1]\n",
      "[1]\n",
      "Lists with more than one element:\n",
      "[1, 2, 3, 4]\n",
      "[1, 2, 3, 4]\n",
      "Remove an element:\n",
      "[1, 2, 4]\n"
     ]
    },
    {
     "ename": "ValueError",
     "evalue": "Value not found in the list",
     "output_type": "error",
     "traceback": [
      "\u001b[0;31m---------------------------------------------------------------------------\u001b[0m",
      "\u001b[0;31mValueError\u001b[0m                                Traceback (most recent call last)",
      "Cell \u001b[0;32mIn[50], line 28\u001b[0m\n\u001b[1;32m     25\u001b[0m python_list\u001b[38;5;241m.\u001b[39mremove(\u001b[38;5;241m3\u001b[39m)\n\u001b[1;32m     26\u001b[0m \u001b[38;5;28mprint\u001b[39m(python_list)\n\u001b[0;32m---> 28\u001b[0m \u001b[43msll\u001b[49m\u001b[38;5;241;43m.\u001b[39;49m\u001b[43mremove\u001b[49m\u001b[43m(\u001b[49m\u001b[38;5;241;43m5\u001b[39;49m\u001b[43m)\u001b[49m\n\u001b[1;32m     29\u001b[0m \u001b[38;5;28mprint\u001b[39m(sll)\n",
      "Cell \u001b[0;32mIn[48], line 55\u001b[0m, in \u001b[0;36mSinglyLinkedList.remove\u001b[0;34m(self, value)\u001b[0m\n\u001b[1;32m     53\u001b[0m             previous \u001b[38;5;241m=\u001b[39m current\n\u001b[1;32m     54\u001b[0m             current \u001b[38;5;241m=\u001b[39m current\u001b[38;5;241m.\u001b[39mnext\n\u001b[0;32m---> 55\u001b[0m \u001b[38;5;28;01mraise\u001b[39;00m \u001b[38;5;167;01mValueError\u001b[39;00m(\u001b[38;5;124m\"\u001b[39m\u001b[38;5;124mValue not found in the list\u001b[39m\u001b[38;5;124m\"\u001b[39m)\n",
      "\u001b[0;31mValueError\u001b[0m: Value not found in the list"
     ]
    }
   ],
   "source": [
    "sll = SinglyLinkedList()\n",
    "python_list = []\n",
    "\n",
    "print(\"Empty lists:\")\n",
    "print(sll)\n",
    "print(python_list)\n",
    "\n",
    "print(\"List with one element:\")\n",
    "sll.append(1)\n",
    "print(sll)\n",
    "python_list.append(1)\n",
    "print(python_list)\n",
    "\n",
    "print(\"Lists with more than one element:\")\n",
    "for number in range(2, 5):\n",
    "    python_list.append(number)\n",
    "    sll.append(number)\n",
    "     \n",
    "print(sll)\n",
    "print(python_list)\n",
    "\n",
    "\n",
    "print(\"Remove an element:\")\n",
    "\n",
    "python_list.remove(3)\n",
    "print(python_list)\n",
    "\n",
    "sll.remove(5)\n",
    "print(sll)\n"
   ]
  },
  {
   "cell_type": "code",
   "execution_count": 28,
   "id": "24b7e978",
   "metadata": {},
   "outputs": [],
   "source": [
    "mylist = [1, 2]\n",
    "\n",
    "mylist.insert(1, 1.5)\n",
    "\n",
    "print(mylist)\n",
    "# help([])"
   ]
  },
  {
   "cell_type": "code",
   "execution_count": null,
   "id": "a7dde260",
   "metadata": {},
   "outputs": [],
   "source": []
  }
 ],
 "metadata": {
  "kernelspec": {
   "display_name": "Python 3 (ipykernel)",
   "language": "python",
   "name": "python3"
  },
  "language_info": {
   "codemirror_mode": {
    "name": "ipython",
    "version": 3
   },
   "file_extension": ".py",
   "mimetype": "text/x-python",
   "name": "python",
   "nbconvert_exporter": "python",
   "pygments_lexer": "ipython3",
   "version": "3.10.6"
  }
 },
 "nbformat": 4,
 "nbformat_minor": 5
}
