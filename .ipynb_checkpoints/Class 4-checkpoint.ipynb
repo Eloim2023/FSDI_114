{
 "cells": [
  {
   "cell_type": "code",
   "execution_count": 1,
   "id": "bc771ee4",
   "metadata": {},
   "outputs": [],
   "source": [
    "class DoublyLinkedList:\n",
    "    class __Node:\n",
    "        def __init__(self, data):\n",
    "            self.data = data\n",
    "            self.next = None\n",
    "            self.prev = None\n",
    "            \n",
    "    def __init__(self):\n",
    "        self.head = None\n",
    "    \n",
    "    def append(self, element):\n",
    "        # Create a new node\n",
    "        # If list is empty, new node is the head\n",
    "        # Traverse to the last node\n",
    "        pass\n",
    "    \n",
    "    def insert(self, index, element):\n",
    "        pass\n",
    "    \n",
    "    def remove(self, element):        \n",
    "        if not self.head:  \n",
    "            raise ValueError(\"List is empty\")   \n",
    "        if self.head.data == element:\n",
    "            self.head = self.head.next\n",
    "        else: \n",
    "            current = self.head\n",
    "#            previous = None\n",
    "            while current:\n",
    "                if current.data == element:\n",
    "                    previous.next = current.next\n",
    "                else:\n",
    "                    previous = current\n",
    "                    current = current.next\n",
    "        raise ValueError(\"Element not found in the list\")\n",
    "            "
   ]
  },
  {
   "cell_type": "code",
   "execution_count": 2,
   "id": "42a190dc",
   "metadata": {},
   "outputs": [],
   "source": [
    "# Pseudocode for append (method)\n",
    "\n",
    "# define method \"append\" with parameter \"element\"\n",
    "#    new_node = new Node instance with \"element\" as data\n",
    "#    if self.head is set to None:\n",
    "#        then.head is set to new_None:\n",
    "#    otherwise:\n",
    "#        current = self.head\n",
    "#        // loop until there is no next node\n",
    "#        do:\n",
    "#           current = current.next\n",
    "#        while current.next is not None\n",
    "#           current.next = new_node\n",
    "#           new_node.prev = current"
   ]
  },
  {
   "cell_type": "code",
   "execution_count": 3,
   "id": "21915cd1",
   "metadata": {},
   "outputs": [],
   "source": [
    "# Recursion"
   ]
  },
  {
   "cell_type": "code",
   "execution_count": 4,
   "id": "0a8fee84",
   "metadata": {},
   "outputs": [],
   "source": [
    "# simple example\n",
    "\n",
    "def fact(num):\n",
    "    if num ==0:\n",
    "        return 1\n",
    "    return num*fact(num-1)"
   ]
  },
  {
   "cell_type": "code",
   "execution_count": 6,
   "id": "55dd7e18",
   "metadata": {},
   "outputs": [
    {
     "data": {
      "text/plain": [
       "24"
      ]
     },
     "execution_count": 6,
     "metadata": {},
     "output_type": "execute_result"
    }
   ],
   "source": [
    "fact(4)"
   ]
  },
  {
   "cell_type": "code",
   "execution_count": 12,
   "id": "135712c2",
   "metadata": {},
   "outputs": [
    {
     "data": {
      "text/plain": [
       "354224848179261915075"
      ]
     },
     "execution_count": 12,
     "metadata": {},
     "output_type": "execute_result"
    }
   ],
   "source": [
    "from functools import lru_cache\n",
    "\n",
    "@lru_cache\n",
    "def fib(num):\n",
    "    if num < 2:                        # base case (wich is our exit condition but also an absolute truth)\n",
    "        return num\n",
    "    return fib(num-1) + fib(num-2)     # recursive case\n",
    "\n",
    "fib(100)"
   ]
  },
  {
   "cell_type": "code",
   "execution_count": 15,
   "id": "b96f83bf",
   "metadata": {},
   "outputs": [
    {
     "name": "stdout",
     "output_type": "stream",
     "text": [
      "346160291286684746313289272940653195821004938840574649197792354882626761451249209476688158830845438584081783077248969641036805567685925275096026379667053520731117017902152350004056055263290740468312565519013758527115134986679500927618960595898784125436743322890902556558480966166842068858827121368084037500398689666218044551350360442646862696279483129043660912539980584260616428129687853518243358544506024804211410314325692133398509706576596745187284000675448960566587838629300214068490071678112576561242120168921521062906855593650494011391615760506296564726181583639595605639315514462323593255726350681177298919692687529131475966996479175735276726414564038873951028105275764984412066591637415934772279139455253087288034009154993561193308269619883651016764739580528775882659332284075160900251889565909001620005955898020498741253426259183467407856451935255744598735677063143605951074135853992415938277666700535092854704966755528337679057697026202081967337389133151551900992563506110333584028337592625787023110008351289364452178195306107056259768301902940710358705695173401175797592063874235214258319794748258830812224447883759078743189231351248058057742818858083652751310389157188583652487191753681908871324452598859106144951594606797195786754559141129782727790928218793262000601818878041232712620482141748965030717911922256234544033929372196985105014830841771293541916105669494308393067698504542986022441130160781328108216014215621166500631310190198456977407701085658980743316402172456165191576635035885104241740897029972735571913355609051794588175072614073380279274977928339443177725603335698391914343325635814053921690136602830888930385122496970174170881935462763316271613842866892088329627160809282789447665993788904319486227140536689107577971883772835153070545678359828373104418268785375257487856252266909918112168299229852218195022374231040315139836301079422737682650129388000\n"
     ]
    }
   ],
   "source": [
    "cache = {}\n",
    "for number in range(1000, 10000, 1000):\n",
    "    result = fib(number)\n",
    "    cache[number] = result\n",
    "    \n",
    "fib(10001)\n",
    "\n",
    "print(cache.get(9000))"
   ]
  },
  {
   "cell_type": "code",
   "execution_count": null,
   "id": "3b6fa9b2",
   "metadata": {},
   "outputs": [],
   "source": [
    "class HashTable:\n",
    "    def __init__(self, size):\n",
    "        self.size = size\n",
    "        self.slots = [None] * self.size\n",
    "        self.data = [None] * self.size\n",
    "        \n",
    "    def put(self, key, data):\n",
    "        hashvalue = self.hashfunction(key, len(self.slots))\n",
    "        if self.slots[hashvalue] == None:\n",
    "            self.slots[hsahvalue] = key\n",
    "            self.data[hashvalue] = data\n",
    "        else:\n",
    "            if self.slots[hashvalue] == key:\n",
    "                self.data[hashvalue] = data\n",
    "            else:\n",
    "                nextslot = self.rehash(hashvalue, len(self.slots))\n",
    "                while self.slots[nextslot] != None and self.slots[nextslot] != key:\n",
    "                    nextslot = self.rehash(nextslot, len(self.slots))\n",
    "                if self.slots[nextslot] == None:\n",
    "                    self.slots[nextslot] = key\n",
    "                    self.data[hashvalue] = data\n",
    "                else: \n",
    "                    self.data[nextslot] = data\n",
    "                    \n",
    "        def hashfunction(self, key, size):\n",
    "            return key%size\n",
    "        \n",
    "        def rehash(self, oldhash, size):\n",
    "            return (oldhash+1)%size\n",
    "        \n",
    "        def get(self, key):\n",
    "            startslot = self.hashfunction(key, len(self.slots))\n",
    "            data = None\n",
    "            stop = False\n",
    "            found = False\n",
    "            position = startslot\n",
    "            \n",
    "            while self.slots[position] != None and not found and not stop:\n",
    "                if self.slots[position] == key:\n",
    "                    found = True\n",
    "                    data = self.data[position]\n",
    "                else:\n",
    "                    position = self.rahash(position, len(self.slots))\n",
    "                    if position == startslot:\n",
    "                        stop = True\n",
    "            return data\n",
    "    \n",
    "    # nice to have dunder methods:\n",
    "    def __getitem__\n",
    "        \n",
    "                    \n",
    "            "
   ]
  }
 ],
 "metadata": {
  "kernelspec": {
   "display_name": "Python 3 (ipykernel)",
   "language": "python",
   "name": "python3"
  },
  "language_info": {
   "codemirror_mode": {
    "name": "ipython",
    "version": 3
   },
   "file_extension": ".py",
   "mimetype": "text/x-python",
   "name": "python",
   "nbconvert_exporter": "python",
   "pygments_lexer": "ipython3",
   "version": "3.10.6"
  }
 },
 "nbformat": 4,
 "nbformat_minor": 5
}
