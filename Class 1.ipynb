{
 "cells": [
  {
   "cell_type": "code",
   "execution_count": 1,
   "id": "77afa92e",
   "metadata": {},
   "outputs": [
    {
     "name": "stdout",
     "output_type": "stream",
     "text": [
      "h\n",
      "e\n",
      "l\n",
      "l\n",
      "o\n",
      ",\n",
      " \n",
      "w\n",
      "o\n",
      "r\n",
      "l\n",
      "d\n"
     ]
    }
   ],
   "source": [
    "for letter in \"hello, world\":\n",
    "    print(letter)"
   ]
  },
  {
   "cell_type": "markdown",
   "id": "afbfeb33",
   "metadata": {},
   "source": [
    "# Anagram checker\n",
    "\n",
    "Given two strings, create a function that determines if there are anagrams of each other.\n",
    "Your function shoould return `True` if these are anagrams of each other, `False` otherwise. \n",
    "\n",
    "*criteria*\n",
    "1. Two strings are anagrams of each other if, and only if:\n",
    "1.1 They use all the same letters the same amount of times.\n",
    "1.2 They are exactly the same length. \n",
    "2. Your function should be called `anagram_check` and must receive two parameters (strings).\n",
    "\n",
    "```examples: \n",
    "heart and earth\n",
    "cars and scar\n",
    "star and rats\n"
   ]
  },
  {
   "cell_type": "code",
   "execution_count": null,
   "id": "07c1ec95",
   "metadata": {},
   "outputs": [],
   "source": [
    "#Create the function anagram_check\n",
    "# remove whitespaces and convert all to lowercases letters\n",
    "# compare lenght of strings, if not equal, then false.\n",
    "\n",
    "\n",
    "\n",
    "    \n",
    "    \n",
    "    \n",
    "\n",
    " "
   ]
  }
 ],
 "metadata": {
  "kernelspec": {
   "display_name": "Python 3 (ipykernel)",
   "language": "python",
   "name": "python3"
  },
  "language_info": {
   "codemirror_mode": {
    "name": "ipython",
    "version": 3
   },
   "file_extension": ".py",
   "mimetype": "text/x-python",
   "name": "python",
   "nbconvert_exporter": "python",
   "pygments_lexer": "ipython3",
   "version": "3.10.6"
  }
 },
 "nbformat": 4,
 "nbformat_minor": 5
}
